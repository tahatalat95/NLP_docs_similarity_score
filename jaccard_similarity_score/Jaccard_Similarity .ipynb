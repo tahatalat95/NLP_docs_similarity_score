{
 "cells": [
  {
   "cell_type": "code",
   "execution_count": 6,
   "id": "220fadd1",
   "metadata": {},
   "outputs": [],
   "source": [
    "from nltk.util import ngrams"
   ]
  },
  {
   "cell_type": "code",
   "execution_count": 1,
   "id": "e1ffe8e2",
   "metadata": {},
   "outputs": [],
   "source": [
    "def split(word):\n",
    "    return [char for char in word]"
   ]
  },
  {
   "cell_type": "code",
   "execution_count": 2,
   "id": "3fe45f91",
   "metadata": {},
   "outputs": [],
   "source": [
    "word1 = 'mohammed'\n",
    "word2 = 'muhamed'"
   ]
  },
  {
   "cell_type": "code",
   "execution_count": 3,
   "id": "b736ffa1",
   "metadata": {},
   "outputs": [
    {
     "name": "stdout",
     "output_type": "stream",
     "text": [
      "['m', 'o', 'h', 'a', 'm', 'm', 'e', 'd']\n",
      "['m', 'u', 'h', 'a', 'm', 'e', 'd']\n"
     ]
    }
   ],
   "source": [
    "print(split(word1))\n",
    "print(split(word2))"
   ]
  },
  {
   "cell_type": "code",
   "execution_count": 13,
   "id": "1f5370e9",
   "metadata": {},
   "outputs": [],
   "source": [
    "def get_ngrams(text, n ):\n",
    "    n_grams = ngrams(split(text), n)\n",
    "    return [ ' '.join(grams) for grams in n_grams]"
   ]
  },
  {
   "cell_type": "code",
   "execution_count": 15,
   "id": "e0651526",
   "metadata": {},
   "outputs": [
    {
     "name": "stdout",
     "output_type": "stream",
     "text": [
      "['m o', 'o h', 'h a', 'a m', 'm m', 'm e', 'e d']\n",
      "['m u', 'u h', 'h a', 'a m', 'm e', 'e d']\n"
     ]
    }
   ],
   "source": [
    "x=get_ngrams(word1, 2 )\n",
    "x2=get_ngrams(word2, 2 )\n",
    "print(x)\n",
    "print(x2)"
   ]
  },
  {
   "cell_type": "code",
   "execution_count": 16,
   "id": "1bfbeeb3",
   "metadata": {},
   "outputs": [],
   "source": [
    "def jaccard_similarity(list1, list2):\n",
    "    intersection = len(set(list1).intersection(list2))\n",
    "    union = len(set(list1)) + len(set(list2)) - intersection\n",
    "    return intersection / union"
   ]
  },
  {
   "cell_type": "code",
   "execution_count": 17,
   "id": "4f257ab1",
   "metadata": {},
   "outputs": [
    {
     "name": "stdout",
     "output_type": "stream",
     "text": [
      "0.7142857142857143\n"
     ]
    }
   ],
   "source": [
    "print(jaccard_similarity(word1,word2))"
   ]
  }
 ],
 "metadata": {
  "kernelspec": {
   "display_name": "Python 3",
   "language": "python",
   "name": "python3"
  },
  "language_info": {
   "codemirror_mode": {
    "name": "ipython",
    "version": 3
   },
   "file_extension": ".py",
   "mimetype": "text/x-python",
   "name": "python",
   "nbconvert_exporter": "python",
   "pygments_lexer": "ipython3",
   "version": "3.8.8"
  }
 },
 "nbformat": 4,
 "nbformat_minor": 5
}
