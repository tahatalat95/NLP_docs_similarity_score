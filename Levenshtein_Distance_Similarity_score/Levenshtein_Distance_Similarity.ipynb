{
 "cells": [
  {
   "cell_type": "code",
   "execution_count": 1,
   "id": "a6dd0fc0",
   "metadata": {},
   "outputs": [],
   "source": [
    "import numpy as np"
   ]
  },
  {
   "cell_type": "code",
   "execution_count": 14,
   "id": "85792fc3",
   "metadata": {},
   "outputs": [],
   "source": [
    "def levenshtein(seq1, seq2):\n",
    "    size_x = len(seq1) + 1\n",
    "    size_y = len(seq2) + 1\n",
    "    matrix = np.zeros ((size_x, size_y))\n",
    "    for x in range(size_x):\n",
    "        matrix [x, 0] = x\n",
    "    for y in range(size_y):\n",
    "        matrix [0, y] = y\n",
    "\n",
    "    for x in range(1, size_x):\n",
    "        for y in range(1, size_y):\n",
    "            if seq1[x-1] == seq2[y-1]:\n",
    "                matrix [x,y] = min(\n",
    "                    matrix[x-1, y] + 1,\n",
    "                    matrix[x-1, y-1],\n",
    "                    matrix[x, y-1] + 1\n",
    "                )\n",
    "            else:\n",
    "                matrix [x,y] = min(\n",
    "                    matrix[x-1,y] + 1,\n",
    "                    matrix[x-1,y-1] + 1,\n",
    "                    matrix[x,y-1] + 1\n",
    "                )\n",
    "    print (matrix)\n",
    "    return (matrix[size_x - 1, size_y - 1])"
   ]
  },
  {
   "cell_type": "code",
   "execution_count": 36,
   "id": "66118453",
   "metadata": {},
   "outputs": [
    {
     "name": "stdout",
     "output_type": "stream",
     "text": [
      "[[0. 1. 2. 3. 4. 5.]\n",
      " [1. 0. 1. 2. 3. 4.]\n",
      " [2. 1. 0. 1. 2. 3.]\n",
      " [3. 2. 1. 0. 1. 2.]\n",
      " [4. 3. 2. 1. 1. 1.]\n",
      " [5. 4. 3. 2. 1. 2.]]\n"
     ]
    }
   ],
   "source": [
    "word1=\"apple\"\n",
    "word2=\"appel\"\n",
    "corner_val = levenshtein(word1, word2)"
   ]
  },
  {
   "cell_type": "code",
   "execution_count": 37,
   "id": "73652fee",
   "metadata": {},
   "outputs": [],
   "source": [
    "distance=corner_val/(max(len(word1),len(word2))) \n",
    "similarty = (1-distance)"
   ]
  },
  {
   "cell_type": "code",
   "execution_count": 38,
   "id": "af732b60",
   "metadata": {},
   "outputs": [
    {
     "name": "stdout",
     "output_type": "stream",
     "text": [
      "distance :  0.4\n",
      "similarty :  60.0  % \n"
     ]
    }
   ],
   "source": [
    "print(\"distance : \" , distance )\n",
    "print(\"similarty : \" , similarty*100,\" % \")\n"
   ]
  },
  {
   "cell_type": "code",
   "execution_count": null,
   "id": "45c92906",
   "metadata": {},
   "outputs": [],
   "source": []
  }
 ],
 "metadata": {
  "kernelspec": {
   "display_name": "Python 3",
   "language": "python",
   "name": "python3"
  },
  "language_info": {
   "codemirror_mode": {
    "name": "ipython",
    "version": 3
   },
   "file_extension": ".py",
   "mimetype": "text/x-python",
   "name": "python",
   "nbconvert_exporter": "python",
   "pygments_lexer": "ipython3",
   "version": "3.8.8"
  }
 },
 "nbformat": 4,
 "nbformat_minor": 5
}
